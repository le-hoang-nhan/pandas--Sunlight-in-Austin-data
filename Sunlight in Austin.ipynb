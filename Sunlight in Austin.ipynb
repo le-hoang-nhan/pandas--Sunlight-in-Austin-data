{
 "cells": [
  {
   "cell_type": "code",
   "execution_count": 47,
   "metadata": {
    "collapsed": true
   },
   "outputs": [
    {
     "name": "stdout",
     "output_type": "stream",
     "text": [
      "C:\\Users\\LE HOANG NHAN\\PycharmProjects\\pandas- Sunlight in Austin data\n['.idea', 'NOAA_QCLCD_2011_hourly_13904.txt', 'Sunlight in Austin.ipynb', 'venv', 'weather_data_austin_2010.csv']\n"
     ]
    }
   ],
   "source": [
    "import os\n",
    "import matplotlib.pyplot as plt\n",
    "import pandas as pd\n",
    "import numpy as np\n",
    "%matplotlib inline\n",
    "print(os.getcwd())\n",
    "print(os.listdir(os.getcwd()))"
   ]
  },
  {
   "cell_type": "code",
   "execution_count": 49,
   "metadata": {},
   "outputs": [
    {
     "name": "stdout",
     "output_type": "stream",
     "text": [
      "      0         1    2   3       4  5      6  7  8  9   ...   34 35     36 37  \\\n0  13904  20110101   53  12  OVC045     10.00           ...          29.95      \n1  13904  20110101  153  12  OVC049     10.00           ...          30.01      \n2  13904  20110101  253  12  OVC060     10.00           ...  030     30.01      \n3  13904  20110101  353  12  OVC065     10.00           ...          30.03      \n4  13904  20110101  453  12  BKN070     10.00           ...          30.04      \n\n   38 39 40 41     42 43  \n0  AA           29.95     \n1  AA           30.02     \n2  AA           30.02     \n3  AA           30.04     \n4  AA           30.04     \n\n[5 rows x 44 columns]\n      0         1    2   3       4  5      6  7  8  9   ...   34 35     36 37  \\\n0  13904  20110101   53  12  OVC045     10.00           ...          29.95      \n1  13904  20110101  153  12  OVC049     10.00           ...          30.01      \n2  13904  20110101  253  12  OVC060     10.00           ...  030     30.01      \n3  13904  20110101  353  12  OVC065     10.00           ...          30.03      \n4  13904  20110101  453  12  BKN070     10.00           ...          30.04      \n\n   38 39 40 41     42 43  \n0  AA           29.95     \n1  AA           30.02     \n2  AA           30.02     \n3  AA           30.04     \n4  AA           30.04     \n\n[5 rows x 44 columns]\n"
     ]
    }
   ],
   "source": [
    "data_file = 'NOAA_QCLCD_2011_hourly_13904.txt'\n",
    "# Read in the data file: df\n",
    "df = pd.read_csv(data_file, header = None)\n",
    "\n",
    "# Print the output of df.head()\n",
    "print(df.head())\n",
    "\n",
    "# Read in the data file with header=None: df_headers\n",
    "df_headers = pd.read_csv(data_file, header=None)\n",
    "\n",
    "# Print the output of df_headers.head()\n",
    "print(df_headers.head())"
   ]
  },
  {
   "cell_type": "code",
   "execution_count": 52,
   "metadata": {},
   "outputs": [
    {
     "name": "stdout",
     "output_type": "stream",
     "text": [
      "    Wban      date  Time  StationType sky_condition visibility dry_bulb_faren  \\\n0  13904  20110101    53           12        OVC045      10.00             51   \n1  13904  20110101   153           12        OVC049      10.00             51   \n2  13904  20110101   253           12        OVC060      10.00             51   \n3  13904  20110101   353           12        OVC065      10.00             50   \n4  13904  20110101   453           12        BKN070      10.00             50   \n\n  dry_bulb_cel wet_bulb_faren wet_bulb_cel dew_point_faren dew_point_cel  \\\n0         10.6             38          3.1              15          -9.4   \n1         10.6             37          3.0              14         -10.0   \n2         10.6             37          2.9              13         -10.6   \n3         10.0             38          3.1              17          -8.3   \n4         10.0             37          2.8              15          -9.4   \n\n  relative_humidity wind_speed wind_direction station_pressure  \\\n0                24         15            360            29.42   \n1                23         10            340            29.49   \n2                22         15            010            29.49   \n3                27          7            350            29.51   \n4                25         11            020            29.51   \n\n  sea_level_pressure  \n0              29.95  \n1              30.01  \n2              30.01  \n3              30.03  \n4              30.04  "
     ]
    },
    {
     "name": "stdout",
     "output_type": "stream",
     "text": [
      "\n"
     ]
    }
   ],
   "source": [
    "#Re-assigning column names\n",
    "column_labels = 'Wban,date,Time,StationType,sky_condition,sky_conditionFlag,visibility,visibilityFlag,wx_and_obst_to_vision,wx_and_obst_to_visionFlag,dry_bulb_faren,dry_bulb_farenFlag,dry_bulb_cel,dry_bulb_celFlag,wet_bulb_faren,wet_bulb_farenFlag,wet_bulb_cel,wet_bulb_celFlag,dew_point_faren,dew_point_farenFlag,dew_point_cel,dew_point_celFlag,relative_humidity,relative_humidityFlag,wind_speed,wind_speedFlag,wind_direction,wind_directionFlag,value_for_wind_character,value_for_wind_characterFlag,station_pressure,station_pressureFlag,pressure_tendency,pressure_tendencyFlag,presschange,presschangeFlag,sea_level_pressure,sea_level_pressureFlag,record_type,hourly_precip,hourly_precipFlag,altimeter,altimeterFlag,junk'\n",
    "list_to_drop = ['sky_conditionFlag',\n",
    " 'visibilityFlag',\n",
    " 'wx_and_obst_to_vision',\n",
    " 'wx_and_obst_to_visionFlag',\n",
    " 'dry_bulb_farenFlag',\n",
    " 'dry_bulb_celFlag',\n",
    " 'wet_bulb_farenFlag',\n",
    " 'wet_bulb_celFlag',\n",
    " 'dew_point_farenFlag',\n",
    " 'dew_point_celFlag',\n",
    " 'relative_humidityFlag',\n",
    " 'wind_speedFlag',\n",
    " 'wind_directionFlag',\n",
    " 'value_for_wind_character',\n",
    " 'value_for_wind_characterFlag',\n",
    " 'station_pressureFlag',\n",
    " 'pressure_tendencyFlag',\n",
    " 'pressure_tendency',\n",
    " 'presschange',\n",
    " 'presschangeFlag',\n",
    " 'sea_level_pressureFlag',\n",
    " 'hourly_precip',\n",
    " 'hourly_precipFlag',\n",
    " 'altimeter',\n",
    " 'record_type',\n",
    " 'altimeterFlag',\n",
    " 'junk']\n",
    "\n",
    "# Split on the comma to create a list: column_labels_list\n",
    "column_labels_list = column_labels.split(',')\n",
    "\n",
    "# Assign the new column labels to the DataFrame: df.columns\n",
    "df.columns = column_labels_list\n",
    "\n",
    "# Remove the appropriate columns: df_dropped\n",
    "df_dropped = df.drop(list_to_drop,axis='columns')\n",
    "\n",
    "# Print the output of df_dropped.head()\n",
    "print(df_dropped.head())"
   ]
  },
  {
   "cell_type": "code",
   "execution_count": 54,
   "metadata": {},
   "outputs": [
    {
     "name": "stdout",
     "output_type": "stream",
     "text": [
      "                      Wban      date  Time  StationType sky_condition  \\\n2011-01-01 00:53:00  13904  20110101  0053           12        OVC045   \n2011-01-01 01:53:00  13904  20110101  0153           12        OVC049   \n2011-01-01 02:53:00  13904  20110101  0253           12        OVC060   \n2011-01-01 03:53:00  13904  20110101  0353           12        OVC065   \n2011-01-01 04:53:00  13904  20110101  0453           12        BKN070   \n\n                    visibility dry_bulb_faren dry_bulb_cel wet_bulb_faren  \\\n2011-01-01 00:53:00      10.00             51         10.6             38   \n2011-01-01 01:53:00      10.00             51         10.6             37   \n2011-01-01 02:53:00      10.00             51         10.6             37   \n2011-01-01 03:53:00      10.00             50         10.0             38   \n2011-01-01 04:53:00      10.00             50         10.0             37   \n\n                    wet_bulb_cel dew_point_faren dew_point_cel  \\\n2011-01-01 00:53:00          3.1              15          -9.4   \n2011-01-01 01:53:00          3.0              14         -10.0   \n2011-01-01 02:53:00          2.9              13         -10.6   \n2011-01-01 03:53:00          3.1              17          -8.3   \n2011-01-01 04:53:00          2.8              15          -9.4   \n\n                    relative_humidity wind_speed wind_direction  \\\n2011-01-01 00:53:00                24         15            360   \n2011-01-01 01:53:00                23         10            340   \n2011-01-01 02:53:00                22         15            010   \n2011-01-01 03:53:00                27          7            350   \n2011-01-01 04:53:00                25         11            020   \n\n                    station_pressure sea_level_pressure  \n2011-01-01 00:53:00            29.42              29.95  \n2011-01-01 01:53:00            29.49              30.01  \n2011-01-01 02:53:00            29.49              30.01  \n2011-01-01 03:53:00            29.51              30.03  \n2011-01-01 04:53:00            29.51              30.04  \n"
     ]
    }
   ],
   "source": [
    "#Cleaning and tidying datetime data\n",
    "\n",
    "# Convert the date column to string: df_dropped['date']\n",
    "df_dropped['date'] = df_dropped[\"date\"].astype(str)\n",
    "\n",
    "# Pad leading zeros to the Time column: df_dropped['Time']\n",
    "df_dropped['Time'] = df_dropped['Time'].apply(lambda x:'{:0>4}'.format(x))\n",
    "\n",
    "# Concatenate the new date and Time columns: date_string\n",
    "date_string = df_dropped['date']+df_dropped['Time'].astype(str)\n",
    "\n",
    "# Convert the date_string Series to datetime: date_times\n",
    "date_times = pd.to_datetime(date_string, format='%Y%m%d%H%M')\n",
    "\n",
    "# Set the index to be the new date_times container: df_clean\n",
    "df_clean = df_dropped.set_index(date_times)\n",
    "\n",
    "# Print the output of df_clean.head()\n",
    "print(df_clean.head())"
   ]
  },
  {
   "cell_type": "code",
   "execution_count": 56,
   "metadata": {},
   "outputs": [
    {
     "name": "stdout",
     "output_type": "stream",
     "text": [
      "2011-06-20 08:27:00     NaN\n2011-06-20 08:28:00     NaN\n2011-06-20 08:29:00     NaN\n2011-06-20 08:30:00     NaN\n2011-06-20 08:31:00     NaN\n2011-06-20 08:32:00     NaN\n2011-06-20 08:33:00     NaN\n2011-06-20 08:34:00     NaN\n2011-06-20 08:35:00     NaN\n2011-06-20 08:53:00    83.0\nName: dry_bulb_faren, dtype: float64\n2011-06-20 08:27:00     NaN\n2011-06-20 08:28:00     NaN\n2011-06-20 08:29:00     NaN\n2011-06-20 08:30:00     NaN\n2011-06-20 08:31:00     NaN\n2011-06-20 08:32:00     NaN\n2011-06-20 08:33:00     NaN\n2011-06-20 08:34:00     NaN\n2011-06-20 08:35:00     NaN\n2011-06-20 08:53:00    83.0\nName: dry_bulb_faren, dtype: float64\n"
     ]
    }
   ],
   "source": [
    "#Cleaning the numeric columns\n",
    "\n",
    "# Read in the data file: df\n",
    "df = pd.read_csv(data_file, header = None)\n",
    "\n",
    "# Print the dry_bulb_faren temperature between 8 AM and 9 AM on June 20, 2011\n",
    "print(df_clean.loc[\"2011-06-20 08:00:00\":\"2011-06-20 09:00:00\", 'dry_bulb_faren'])\n",
    "\n",
    "# Convert the dry_bulb_faren column to numeric values: df_clean['dry_bulb_faren']\n",
    "df_clean['dry_bulb_faren'] = pd.to_numeric(df_clean['dry_bulb_faren'], errors='coerce')\n",
    "\n",
    "# Print the transformed dry_bulb_faren temperature between 8 AM and 9 AM on June 20, 2011\n",
    "print(df_clean.loc[\"2011-06-20 08:00:00\":\"2011-06-20 09:00:00\", 'dry_bulb_faren'])\n",
    "\n",
    "# Convert the wind_speed and dew_point_faren columns to numeric values\n",
    "df_clean['wind_speed'] = pd.to_numeric(df_clean['wind_speed'], errors='coerce')\n",
    "df_clean['dew_point_faren'] = pd.to_numeric(df_clean['dew_point_faren'], errors='coerce')"
   ]
  },
  {
   "cell_type": "code",
   "execution_count": 58,
   "metadata": {},
   "outputs": [
    {
     "name": "stdout",
     "output_type": "stream",
     "text": [
      "72.0\n78.0\n48.0\n"
     ]
    }
   ],
   "source": [
    "#Signal min, max, median\n",
    "\n",
    "# Print the median of the dry_bulb_faren column\n",
    "print(df_clean.dry_bulb_faren.median())\n",
    "\n",
    "# Print the median of the dry_bulb_faren column for the time range '2011-Apr':'2011-Jun'\n",
    "print(df_clean.loc['2011-Apr':'2011-Jun', 'dry_bulb_faren'].median())\n",
    "\n",
    "# Print the median of the dry_bulb_faren column for the month of January\n",
    "print(df_clean.loc['2011-Jan', \"dry_bulb_faren\"].median())"
   ]
  },
  {
   "cell_type": "code",
   "execution_count": 60,
   "metadata": {
    "collapsed": false
   },
   "outputs": [],
   "source": [
    "# Read in the data file: df\n",
    "df_climate = pd.read_csv('weather_data_austin_2010.csv', delimiter=',')\n",
    "df_climate= df_climate.set_index(pd.DatetimeIndex(df_climate['Date']))"
   ]
  },
  {
   "cell_type": "code",
   "execution_count": 61,
   "metadata": {},
   "outputs": [
    {
     "name": "stdout",
     "output_type": "stream",
     "text": [
      "1.3301831870056477\n"
     ]
    }
   ],
   "source": [
    "#Signal variance\n",
    "\n",
    "# Downsample df_clean by day and aggregate by mean: daily_mean_2011\n",
    "daily_mean_2011 = df_clean.resample(\"D\").mean()\n",
    "\n",
    "# Extract the dry_bulb_faren column from daily_mean_2011 using .values: daily_temp_2011\n",
    "daily_temp_2011 = daily_mean_2011[\"dry_bulb_faren\"].values\n",
    "\n",
    "# Downsample df_climate by day and aggregate by mean: daily_climate\n",
    "daily_climate = df_climate.resample(\"D\").mean()\n",
    "\n",
    "# Extract the Temperature column from daily_climate using .reset_index(): daily_temp_climate\n",
    "daily_temp_climate = daily_climate.reset_index()['Temperature']\n",
    "\n",
    "# Compute the difference between the two arrays and print the mean difference\n",
    "difference = daily_temp_2011 - daily_temp_climate\n",
    "print(difference.mean())"
   ]
  },
  {
   "cell_type": "code",
   "execution_count": 68,
   "metadata": {},
   "outputs": [
    {
     "data": {
      "text/html": [
       "<div>\n",
       "<style scoped>\n",
       "    .dataframe tbody tr th:only-of-type {\n",
       "        vertical-align: middle;\n",
       "    }\n",
       "\n",
       "    .dataframe tbody tr th {\n",
       "        vertical-align: top;\n",
       "    }\n",
       "\n",
       "    .dataframe thead th {\n",
       "        text-align: right;\n",
       "    }\n",
       "</style>\n",
       "<table border=\"1\" class=\"dataframe\">\n",
       "  <thead>\n",
       "    <tr style=\"text-align: right;\">\n",
       "      <th></th>\n",
       "      <th>Wban</th>\n",
       "      <th>date</th>\n",
       "      <th>Time</th>\n",
       "      <th>StationType</th>\n",
       "      <th>sky_condition</th>\n",
       "      <th>dry_bulb_faren</th>\n",
       "      <th>dry_bulb_cel</th>\n",
       "      <th>wet_bulb_faren</th>\n",
       "      <th>wet_bulb_cel</th>\n",
       "      <th>dew_point_faren</th>\n",
       "      <th>dew_point_cel</th>\n",
       "      <th>relative_humidity</th>\n",
       "      <th>wind_speed</th>\n",
       "      <th>wind_direction</th>\n",
       "      <th>station_pressure</th>\n",
       "      <th>sea_level_pressure</th>\n",
       "    </tr>\n",
       "  </thead>\n",
       "  <tbody>\n",
       "    <tr>\n",
       "      <th>2011-01-01</th>\n",
       "      <td>13904.0</td>\n",
       "      <td>20110101</td>\n",
       "      <td>2353</td>\n",
       "      <td>12.0</td>\n",
       "      <td>CLR</td>\n",
       "      <td>59.0</td>\n",
       "      <td>8.3</td>\n",
       "      <td>45</td>\n",
       "      <td>7.2</td>\n",
       "      <td>28.0</td>\n",
       "      <td>-6.1</td>\n",
       "      <td>53</td>\n",
       "      <td>16.0</td>\n",
       "      <td>360</td>\n",
       "      <td>29.78</td>\n",
       "      <td>30.33</td>\n",
       "    </tr>\n",
       "    <tr>\n",
       "      <th>2011-01-02</th>\n",
       "      <td>13904.0</td>\n",
       "      <td>20110102</td>\n",
       "      <td>2253</td>\n",
       "      <td>12.0</td>\n",
       "      <td>CLR</td>\n",
       "      <td>35.0</td>\n",
       "      <td>1.7</td>\n",
       "      <td>32</td>\n",
       "      <td>0.1</td>\n",
       "      <td>28.0</td>\n",
       "      <td>-7.2</td>\n",
       "      <td>76</td>\n",
       "      <td>8.0</td>\n",
       "      <td>360</td>\n",
       "      <td>29.82</td>\n",
       "      <td>30.38</td>\n",
       "    </tr>\n",
       "    <tr>\n",
       "      <th>2011-01-03</th>\n",
       "      <td>13904.0</td>\n",
       "      <td>20110103</td>\n",
       "      <td>0453</td>\n",
       "      <td>12.0</td>\n",
       "      <td>CLR</td>\n",
       "      <td>32.0</td>\n",
       "      <td>0.0</td>\n",
       "      <td>29</td>\n",
       "      <td>-1.9</td>\n",
       "      <td>26.0</td>\n",
       "      <td>-4.4</td>\n",
       "      <td>85</td>\n",
       "      <td>0.0</td>\n",
       "      <td>000</td>\n",
       "      <td>29.71</td>\n",
       "      <td>30.27</td>\n",
       "    </tr>\n",
       "    <tr>\n",
       "      <th>2011-01-04</th>\n",
       "      <td>NaN</td>\n",
       "      <td>NaN</td>\n",
       "      <td>NaN</td>\n",
       "      <td>NaN</td>\n",
       "      <td>NaN</td>\n",
       "      <td>NaN</td>\n",
       "      <td>NaN</td>\n",
       "      <td>NaN</td>\n",
       "      <td>NaN</td>\n",
       "      <td>NaN</td>\n",
       "      <td>NaN</td>\n",
       "      <td>NaN</td>\n",
       "      <td>NaN</td>\n",
       "      <td>NaN</td>\n",
       "      <td>NaN</td>\n",
       "      <td>NaN</td>\n",
       "    </tr>\n",
       "    <tr>\n",
       "      <th>2011-01-05</th>\n",
       "      <td>13904.0</td>\n",
       "      <td>20110105</td>\n",
       "      <td>2353</td>\n",
       "      <td>12.0</td>\n",
       "      <td>CLR</td>\n",
       "      <td>35.0</td>\n",
       "      <td>1.7</td>\n",
       "      <td>33</td>\n",
       "      <td>0.3</td>\n",
       "      <td>29.0</td>\n",
       "      <td>-1.7</td>\n",
       "      <td>79</td>\n",
       "      <td>0.0</td>\n",
       "      <td>000</td>\n",
       "      <td>29.54</td>\n",
       "      <td>30.08</td>\n",
       "    </tr>\n",
       "  </tbody>\n",
       "</table>\n",
       "</div>"
      ],
      "text/plain": [
       "<div>\n",
       "<style scoped>\n",
       "    .dataframe tbody tr th:only-of-type {\n",
       "        vertical-align: middle;\n",
       "    }\n",
       "\n",
       "    .dataframe tbody tr th {\n",
       "        vertical-align: top;\n",
       "    }\n",
       "\n",
       "    .dataframe thead th {\n",
       "        text-align: right;\n",
       "    }\n",
       "</style>\n",
       "<table border=\"1\" class=\"dataframe\">\n",
       "  <thead>\n",
       "    <tr style=\"text-align: right;\">\n",
       "      <th></th>\n",
       "      <th>Wban</th>\n",
       "      <th>date</th>\n",
       "      <th>Time</th>\n",
       "      <th>StationType</th>\n",
       "      <th>sky_condition</th>\n",
       "      <th>dry_bulb_faren</th>\n",
       "      <th>dry_bulb_cel</th>\n",
       "      <th>wet_bulb_faren</th>\n",
       "      <th>wet_bulb_cel</th>\n",
       "      <th>dew_point_faren</th>\n",
       "      <th>dew_point_cel</th>\n",
       "      <th>relative_humidity</th>\n",
       "      <th>wind_speed</th>\n",
       "      <th>wind_direction</th>\n",
       "      <th>station_pressure</th>\n",
       "      <th>sea_level_pressure</th>\n",
       "    </tr>\n",
       "  </thead>\n",
       "  <tbody>\n",
       "    <tr>\n",
       "      <th>2011-01-01</th>\n",
       "      <td>13904.0</td>\n",
       "      <td>20110101</td>\n",
       "      <td>2353</td>\n",
       "      <td>12.0</td>\n",
       "      <td>CLR</td>\n",
       "      <td>59.0</td>\n",
       "      <td>8.3</td>\n",
       "      <td>45</td>\n",
       "      <td>7.2</td>\n",
       "      <td>28.0</td>\n",
       "      <td>-6.1</td>\n",
       "      <td>53</td>\n",
       "      <td>16.0</td>\n",
       "      <td>360</td>\n",
       "      <td>29.78</td>\n",
       "      <td>30.33</td>\n",
       "    </tr>\n",
       "    <tr>\n",
       "      <th>2011-01-02</th>\n",
       "      <td>13904.0</td>\n",
       "      <td>20110102</td>\n",
       "      <td>2253</td>\n",
       "      <td>12.0</td>\n",
       "      <td>CLR</td>\n",
       "      <td>35.0</td>\n",
       "      <td>1.7</td>\n",
       "      <td>32</td>\n",
       "      <td>0.1</td>\n",
       "      <td>28.0</td>\n",
       "      <td>-7.2</td>\n",
       "      <td>76</td>\n",
       "      <td>8.0</td>\n",
       "      <td>360</td>\n",
       "      <td>29.82</td>\n",
       "      <td>30.38</td>\n",
       "    </tr>\n",
       "    <tr>\n",
       "      <th>2011-01-03</th>\n",
       "      <td>13904.0</td>\n",
       "      <td>20110103</td>\n",
       "      <td>0453</td>\n",
       "      <td>12.0</td>\n",
       "      <td>CLR</td>\n",
       "      <td>32.0</td>\n",
       "      <td>0.0</td>\n",
       "      <td>29</td>\n",
       "      <td>-1.9</td>\n",
       "      <td>26.0</td>\n",
       "      <td>-4.4</td>\n",
       "      <td>85</td>\n",
       "      <td>0.0</td>\n",
       "      <td>000</td>\n",
       "      <td>29.71</td>\n",
       "      <td>30.27</td>\n",
       "    </tr>\n",
       "    <tr>\n",
       "      <th>2011-01-04</th>\n",
       "      <td>NaN</td>\n",
       "      <td>NaN</td>\n",
       "      <td>NaN</td>\n",
       "      <td>NaN</td>\n",
       "      <td>NaN</td>\n",
       "      <td>NaN</td>\n",
       "      <td>NaN</td>\n",
       "      <td>NaN</td>\n",
       "      <td>NaN</td>\n",
       "      <td>NaN</td>\n",
       "      <td>NaN</td>\n",
       "      <td>NaN</td>\n",
       "      <td>NaN</td>\n",
       "      <td>NaN</td>\n",
       "      <td>NaN</td>\n",
       "      <td>NaN</td>\n",
       "    </tr>\n",
       "    <tr>\n",
       "      <th>2011-01-05</th>\n",
       "      <td>13904.0</td>\n",
       "      <td>20110105</td>\n",
       "      <td>2353</td>\n",
       "      <td>12.0</td>\n",
       "      <td>CLR</td>\n",
       "      <td>35.0</td>\n",
       "      <td>1.7</td>\n",
       "      <td>33</td>\n",
       "      <td>0.3</td>\n",
       "      <td>29.0</td>\n",
       "      <td>-1.7</td>\n",
       "      <td>79</td>\n",
       "      <td>0.0</td>\n",
       "      <td>000</td>\n",
       "      <td>29.54</td>\n",
       "      <td>30.08</td>\n",
       "    </tr>\n",
       "  </tbody>\n",
       "</table>\n",
       "</div>"
      ]
     },
     "execution_count": 68,
     "metadata": {},
     "output_type": "execute_result"
    }
   ],
   "source": [
    "#compare temperatures on sunny days against temperatures on overcast days\n",
    "\n",
    "# Using df_clean, when is sky_condition 'CLR'?\n",
    "is_sky_clear = df_clean['sky_condition']=='CLR'\n",
    "\n",
    "# Filter df_clean using is_sky_clear\n",
    "sunny = df_clean.loc[is_sky_clear]\n",
    "\n",
    "# Resample sunny by day then calculate the max\n",
    "sunny_daily_max = sunny.resample('D').max()\n",
    "\n",
    "# See the result\n",
    "sunny_daily_max.head()"
   ]
  },
  {
   "cell_type": "code",
   "execution_count": 71,
   "metadata": {
    "collapsed": false
   },
   "outputs": [
    {
     "data": {
      "text/plain": [
       "DatetimeIndexResampler [freq=<Day>, axis=0, closed=left, label=left, convention=start, base=0]"
      ]
     },
     "execution_count": 71,
     "metadata": {},
     "output_type": "execute_result"
    }
   ],
   "source": [
    "#Daily hours of clear sky\n",
    "\n",
    "# Using df_clean, when is sky_condition 'CLR'?\n",
    "is_sky_clear = df_clean['sky_condition'] == 'CLR'\n",
    "\n",
    "# Resample is_sky_clear by day\n",
    "resampled = is_sky_clear.resample('D')\n",
    "\n",
    "# See the result\n",
    "resampled"
   ]
  },
  {
   "cell_type": "code",
   "execution_count": 72,
   "metadata": {},
   "outputs": [
    {
     "data": {
      "image/png": "[encoded data removed]",
      "text/plain": [
       "<Figure size 432x288 with 2 Axes>"
      ]
     },
     "metadata": {},
     "output_type": "display_data"
    }
   ],
   "source": [
    "#Heat or humidity\n",
    "\n",
    "# Resample dew_point_faren and dry_bulb_faren by Month, aggregating the maximum values: monthly_max\n",
    "monthly_max = df_clean[['dew_point_faren','dry_bulb_faren']].resample('M').max()\n",
    "\n",
    "# Generate a histogram with bins=8, alpha=0.5, subplots=True\n",
    "monthly_max.plot(kind=\"hist\", bins=8, alpha=0.5, subplots=True)\n",
    "\n",
    "# Show the plot\n",
    "plt.show()"
   ]
  },
  {
   "cell_type": "code",
   "execution_count": 73,
   "metadata": {},
   "outputs": [
    {
     "name": "stdout",
     "output_type": "stream",
     "text": [
      "95.3\n"
     ]
    },
    {
     "name": "stderr",
     "output_type": "stream",
     "text": [
      "C:\\Users\\LE HOANG NHAN\\PycharmProjects\\pandas- Sunlight in Austin data\\venv\\lib\\site-packages\\matplotlib\\axes\\_axes.py:6521: MatplotlibDeprecationWarning: \nThe 'normed' kwarg was deprecated in Matplotlib 2.1 and will be removed in 3.1. Use 'density' instead.\n  alternative=\"'density'\", removal=\"3.1\")\n"
     ]
    },
    {
     "data": {
      "image/png": "[encoded data removed]",
      "text/plain": [
       "<Figure size 432x288 with 1 Axes>"
      ]
     },
     "metadata": {},
     "output_type": "display_data"
    }
   ],
   "source": [
    "#Probability of high temperatures\n",
    "\n",
    "# Extract the maximum temperature in August 2010 from df_climate: august_max\n",
    "august_max = df_climate.loc['2010-Aug','Temperature'].max()\n",
    "print(august_max)\n",
    "\n",
    "# Resample August 2011 temps in df_clean by day & aggregate the max value: august_2011\n",
    "august_2011 = df_clean.loc['2011-Aug','dry_bulb_faren'].resample(\"D\").max()\n",
    "\n",
    "\n",
    "# Filter for days in august_2011 where the value exceeds august_max: august_2011_high\n",
    "\n",
    "august_2011_high = august_2011.loc[august_2011>august_max]\n",
    "\n",
    "# Construct a CDF of august_2011_high\n",
    "august_2011_high.plot(kind=\"hist\", normed=True,  cumulative =True,bins =25)\n",
    "\n",
    "# Display the plot\n",
    "plt.show()"
   ]
  },
  {
   "cell_type": "code",
   "execution_count": null,
   "metadata": {},
   "outputs": [],
   "source": []
  }
 ],
 "metadata": {
  "kernelspec": {
   "display_name": "Python 2",
   "language": "python",
   "name": "python2"
  },
  "language_info": {
   "codemirror_mode": {
    "name": "ipython",
    "version": 2
   },
   "file_extension": ".py",
   "mimetype": "text/x-python",
   "name": "python",
   "nbconvert_exporter": "python",
   "pygments_lexer": "ipython2",
   "version": "2.7.6"
  }
 },
 "nbformat": 4,
 "nbformat_minor": 0
}
